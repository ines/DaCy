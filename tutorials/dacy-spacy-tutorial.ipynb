{
 "metadata": {
  "language_info": {
   "codemirror_mode": {
    "name": "ipython",
    "version": 3
   },
   "file_extension": ".py",
   "mimetype": "text/x-python",
   "name": "python",
   "nbconvert_exporter": "python",
   "pygments_lexer": "ipython3",
   "version": "3.8.8-final"
  },
  "orig_nbformat": 2,
  "kernelspec": {
   "name": "python3",
   "display_name": "Python 3.8.8 64-bit ('NLP': venv)",
   "metadata": {
    "interpreter": {
     "hash": "2136a9c3637fd160483224d7922e48bf03b650be5dff26724a0c1f8d1279953b"
    }
   }
  }
 },
 "nbformat": 4,
 "nbformat_minor": 2,
 "cells": [
  {
   "source": [
    "# Introduction to DaCy and SpaCy\n",
    "\n",
    "----\n",
    "Before we start we assume you have installed DaCy and SpaCy if not you can run the following:\n"
   ],
   "cell_type": "markdown",
   "metadata": {}
  },
  {
   "cell_type": "code",
   "execution_count": 1,
   "metadata": {},
   "outputs": [],
   "source": [
    "!pip install -q git+https://github.com/KennethEnevoldsen/DaCy"
   ]
  },
  {
   "source": [
    "\n",
    "----\n",
    "\n",
    "Let's start of by loading DaCy as well as the smallest of the two models:"
   ],
   "cell_type": "markdown",
   "metadata": {}
  },
  {
   "cell_type": "code",
   "execution_count": 1,
   "metadata": {},
   "outputs": [
    {
     "output_type": "stream",
     "name": "stdout",
     "text": [
      "da_dacy_medium_tft-0.0.0\nda_dacy_large_tft-0.0.0\n"
     ]
    }
   ],
   "source": [
    "import dacy\n",
    "\n",
    "# to see available models\n",
    "for model in dacy.models():\n",
    "    print(model)\n",
    "\n",
    "# loading the smallest model\n",
    "nlp = dacy.load(\"da_dacy_medium_tft-0.0.0\")"
   ]
  },
  {
   "source": [
    "# Examining the SpaCy's Classes"
   ],
   "cell_type": "markdown",
   "metadata": {}
  },
  {
   "cell_type": "code",
   "execution_count": 3,
   "metadata": {},
   "outputs": [
    {
     "output_type": "stream",
     "name": "stdout",
     "text": [
      "<class 'spacy.lang.da.Danish'>\n<class 'spacy.tokens.doc.Doc'>\n<class 'spacy.tokens.token.Token'>\n"
     ]
    }
   ],
   "source": [
    "print(type(nlp))\n",
    "\n",
    "doc = nlp(\"EU-landene Frankrig, Italien, Spanien og Tyskland har indgået vaccine-aftale med Rusland\")\n",
    "\n",
    "print(type(doc))\n",
    "\n",
    "print(type(doc[0]))\n"
   ]
  },
  {
   "cell_type": "code",
   "execution_count": 4,
   "metadata": {},
   "outputs": [
    {
     "output_type": "stream",
     "name": "stdout",
     "text": [
      "['_', '__bytes__', '__class__', '__delattr__', '__dir__', '__doc__', '__eq__', '__format__', '__ge__', '__getattribute__', '__gt__', '__hash__', '__init__', '__init_subclass__', '__le__', '__len__', '__lt__', '__ne__', '__new__', '__pyx_vtable__', '__reduce__', '__reduce_ex__', '__repr__', '__setattr__', '__sizeof__', '__str__', '__subclasshook__', '__unicode__', 'ancestors', 'check_flag', 'children', 'cluster', 'conjuncts', 'dep', 'dep_', 'doc', 'ent_id', 'ent_id_', 'ent_iob', 'ent_iob_', 'ent_kb_id', 'ent_kb_id_', 'ent_type', 'ent_type_', 'get_extension', 'has_dep', 'has_extension', 'has_head', 'has_morph', 'has_vector', 'head', 'i', 'idx', 'iob_strings', 'is_alpha', 'is_ancestor', 'is_ascii', 'is_bracket', 'is_currency', 'is_digit', 'is_left_punct', 'is_lower', 'is_oov', 'is_punct', 'is_quote', 'is_right_punct', 'is_sent_end', 'is_sent_start', 'is_space', 'is_stop', 'is_title', 'is_upper', 'lang', 'lang_', 'left_edge', 'lefts', 'lemma', 'lemma_', 'lex', 'lex_id', 'like_email', 'like_num', 'like_url', 'lower', 'lower_', 'morph', 'n_lefts', 'n_rights', 'nbor', 'norm', 'norm_', 'orth', 'orth_', 'pos', 'pos_', 'prefix', 'prefix_', 'prob', 'rank', 'remove_extension', 'right_edge', 'rights', 'sent', 'sent_start', 'sentiment', 'set_extension', 'set_morph', 'shape', 'shape_', 'similarity', 'subtree', 'suffix', 'suffix_', 'tag', 'tag_', 'tensor', 'text', 'text_with_ws', 'vector', 'vector_norm', 'vocab', 'whitespace_']\n"
     ]
    }
   ],
   "source": [
    "# what can we do with the token class \n",
    "print(dir(doc[0]))"
   ]
  },
  {
   "cell_type": "code",
   "execution_count": 5,
   "metadata": {},
   "outputs": [
    {
     "output_type": "stream",
     "name": "stdout",
     "text": [
      "EU-landene: \n\tPOS-tag: NOUN, \n\tNER: MISC - MISC\nFrankrig: \n\tPOS-tag: PROPN, \n\tNER: LOC - LOC\n,: \n\tPOS-tag: PUNCT, \n\tNER:  - \nItalien: \n\tPOS-tag: PROPN, \n\tNER: LOC - LOC\n,: \n\tPOS-tag: PUNCT, \n\tNER:  - \nSpanien: \n\tPOS-tag: PROPN, \n\tNER: LOC - LOC\nog: \n\tPOS-tag: CCONJ, \n\tNER:  - \nTyskland: \n\tPOS-tag: PROPN, \n\tNER: LOC - LOC\nhar: \n\tPOS-tag: AUX, \n\tNER:  - \nindgået: \n\tPOS-tag: VERB, \n\tNER:  - \nvaccine-aftale: \n\tPOS-tag: NOUN, \n\tNER:  - \nmed: \n\tPOS-tag: ADP, \n\tNER:  - \nRusland: \n\tPOS-tag: PROPN, \n\tNER: LOC - LOC\n"
     ]
    },
    {
     "output_type": "execute_result",
     "data": {
      "text/plain": [
       "(EU-landene, Frankrig, Italien, Spanien, Tyskland, Rusland)"
      ]
     },
     "metadata": {},
     "execution_count": 5
    }
   ],
   "source": [
    "# Extracting things from the document and the token class.\n",
    "\n",
    "for token in doc:\n",
    "    print(f\"{token}: \\n\\tPOS-tag: {token.tag_}, \\n\\tNER: {token.ent_type_} - {token.ent_type_}\")\n",
    "\n",
    "# Why the underscore '_'? Hint: Efficient data structures\n",
    "\n",
    "# you can also extract things directly from the document class:\n",
    "doc.ents"
   ]
  },
  {
   "source": [
    "# Visualization of Predictions"
   ],
   "cell_type": "markdown",
   "metadata": {}
  },
  {
   "cell_type": "code",
   "execution_count": 6,
   "metadata": {},
   "outputs": [
    {
     "output_type": "display_data",
     "data": {
      "text/plain": "<IPython.core.display.HTML object>",
      "text/html": "<span class=\"tex2jax_ignore\"><div class=\"entities\" style=\"line-height: 2.5; direction: ltr\">\n<mark class=\"entity\" style=\"background: #ddd; padding: 0.45em 0.6em; margin: 0 0.25em; line-height: 1; border-radius: 0.35em;\">\n    EU-landene\n    <span style=\"font-size: 0.8em; font-weight: bold; line-height: 1; border-radius: 0.35em; vertical-align: middle; margin-left: 0.5rem\">MISC</span>\n</mark>\n \n<mark class=\"entity\" style=\"background: #ff9561; padding: 0.45em 0.6em; margin: 0 0.25em; line-height: 1; border-radius: 0.35em;\">\n    Frankrig\n    <span style=\"font-size: 0.8em; font-weight: bold; line-height: 1; border-radius: 0.35em; vertical-align: middle; margin-left: 0.5rem\">LOC</span>\n</mark>\n, \n<mark class=\"entity\" style=\"background: #ff9561; padding: 0.45em 0.6em; margin: 0 0.25em; line-height: 1; border-radius: 0.35em;\">\n    Italien\n    <span style=\"font-size: 0.8em; font-weight: bold; line-height: 1; border-radius: 0.35em; vertical-align: middle; margin-left: 0.5rem\">LOC</span>\n</mark>\n, \n<mark class=\"entity\" style=\"background: #ff9561; padding: 0.45em 0.6em; margin: 0 0.25em; line-height: 1; border-radius: 0.35em;\">\n    Spanien\n    <span style=\"font-size: 0.8em; font-weight: bold; line-height: 1; border-radius: 0.35em; vertical-align: middle; margin-left: 0.5rem\">LOC</span>\n</mark>\n og \n<mark class=\"entity\" style=\"background: #ff9561; padding: 0.45em 0.6em; margin: 0 0.25em; line-height: 1; border-radius: 0.35em;\">\n    Tyskland\n    <span style=\"font-size: 0.8em; font-weight: bold; line-height: 1; border-radius: 0.35em; vertical-align: middle; margin-left: 0.5rem\">LOC</span>\n</mark>\n har indgået vaccine-aftale med \n<mark class=\"entity\" style=\"background: #ff9561; padding: 0.45em 0.6em; margin: 0 0.25em; line-height: 1; border-radius: 0.35em;\">\n    Rusland\n    <span style=\"font-size: 0.8em; font-weight: bold; line-height: 1; border-radius: 0.35em; vertical-align: middle; margin-left: 0.5rem\">LOC</span>\n</mark>\n</div></span>"
     },
     "metadata": {}
    }
   ],
   "source": [
    "from spacy import displacy\n",
    "\n",
    "displacy.render(doc, style=\"ent\")"
   ]
  },
  {
   "cell_type": "code",
   "execution_count": 7,
   "metadata": {},
   "outputs": [
    {
     "output_type": "display_data",
     "data": {
      "text/plain": "<IPython.core.display.HTML object>",
      "text/html": "<span class=\"tex2jax_ignore\"><svg xmlns=\"http://www.w3.org/2000/svg\" xmlns:xlink=\"http://www.w3.org/1999/xlink\" xml:lang=\"da\" id=\"e172e361f65445f2ac2b8f128a5a88fe-0\" class=\"displacy\" width=\"1975\" height=\"487.0\" direction=\"ltr\" style=\"max-width: none; height: 487.0px; color: #000000; background: #ffffff; font-family: Arial; direction: ltr\">\n<text class=\"displacy-token\" fill=\"currentColor\" text-anchor=\"middle\" y=\"397.0\">\n    <tspan class=\"displacy-word\" fill=\"currentColor\" x=\"50\">EU-landene</tspan>\n    <tspan class=\"displacy-tag\" dy=\"2em\" fill=\"currentColor\" x=\"50\"></tspan>\n</text>\n\n<text class=\"displacy-token\" fill=\"currentColor\" text-anchor=\"middle\" y=\"397.0\">\n    <tspan class=\"displacy-word\" fill=\"currentColor\" x=\"225\">Frankrig,</tspan>\n    <tspan class=\"displacy-tag\" dy=\"2em\" fill=\"currentColor\" x=\"225\"></tspan>\n</text>\n\n<text class=\"displacy-token\" fill=\"currentColor\" text-anchor=\"middle\" y=\"397.0\">\n    <tspan class=\"displacy-word\" fill=\"currentColor\" x=\"400\">Italien,</tspan>\n    <tspan class=\"displacy-tag\" dy=\"2em\" fill=\"currentColor\" x=\"400\"></tspan>\n</text>\n\n<text class=\"displacy-token\" fill=\"currentColor\" text-anchor=\"middle\" y=\"397.0\">\n    <tspan class=\"displacy-word\" fill=\"currentColor\" x=\"575\">Spanien</tspan>\n    <tspan class=\"displacy-tag\" dy=\"2em\" fill=\"currentColor\" x=\"575\"></tspan>\n</text>\n\n<text class=\"displacy-token\" fill=\"currentColor\" text-anchor=\"middle\" y=\"397.0\">\n    <tspan class=\"displacy-word\" fill=\"currentColor\" x=\"750\">og</tspan>\n    <tspan class=\"displacy-tag\" dy=\"2em\" fill=\"currentColor\" x=\"750\"></tspan>\n</text>\n\n<text class=\"displacy-token\" fill=\"currentColor\" text-anchor=\"middle\" y=\"397.0\">\n    <tspan class=\"displacy-word\" fill=\"currentColor\" x=\"925\">Tyskland</tspan>\n    <tspan class=\"displacy-tag\" dy=\"2em\" fill=\"currentColor\" x=\"925\"></tspan>\n</text>\n\n<text class=\"displacy-token\" fill=\"currentColor\" text-anchor=\"middle\" y=\"397.0\">\n    <tspan class=\"displacy-word\" fill=\"currentColor\" x=\"1100\">har</tspan>\n    <tspan class=\"displacy-tag\" dy=\"2em\" fill=\"currentColor\" x=\"1100\"></tspan>\n</text>\n\n<text class=\"displacy-token\" fill=\"currentColor\" text-anchor=\"middle\" y=\"397.0\">\n    <tspan class=\"displacy-word\" fill=\"currentColor\" x=\"1275\">indgået</tspan>\n    <tspan class=\"displacy-tag\" dy=\"2em\" fill=\"currentColor\" x=\"1275\"></tspan>\n</text>\n\n<text class=\"displacy-token\" fill=\"currentColor\" text-anchor=\"middle\" y=\"397.0\">\n    <tspan class=\"displacy-word\" fill=\"currentColor\" x=\"1450\">vaccine-aftale</tspan>\n    <tspan class=\"displacy-tag\" dy=\"2em\" fill=\"currentColor\" x=\"1450\"></tspan>\n</text>\n\n<text class=\"displacy-token\" fill=\"currentColor\" text-anchor=\"middle\" y=\"397.0\">\n    <tspan class=\"displacy-word\" fill=\"currentColor\" x=\"1625\">med</tspan>\n    <tspan class=\"displacy-tag\" dy=\"2em\" fill=\"currentColor\" x=\"1625\"></tspan>\n</text>\n\n<text class=\"displacy-token\" fill=\"currentColor\" text-anchor=\"middle\" y=\"397.0\">\n    <tspan class=\"displacy-word\" fill=\"currentColor\" x=\"1800\">Rusland</tspan>\n    <tspan class=\"displacy-tag\" dy=\"2em\" fill=\"currentColor\" x=\"1800\"></tspan>\n</text>\n\n<g class=\"displacy-arrow\">\n    <path class=\"displacy-arc\" id=\"arrow-e172e361f65445f2ac2b8f128a5a88fe-0-0\" stroke-width=\"2px\" d=\"M70,352.0 C70,2.0 1275.0,2.0 1275.0,352.0\" fill=\"none\" stroke=\"currentColor\"/>\n    <text dy=\"1.25em\" style=\"font-size: 0.8em; letter-spacing: 1px\">\n        <textPath xlink:href=\"#arrow-e172e361f65445f2ac2b8f128a5a88fe-0-0\" class=\"displacy-label\" startOffset=\"50%\" side=\"left\" fill=\"currentColor\" text-anchor=\"middle\">nsubj</textPath>\n    </text>\n    <path class=\"displacy-arrowhead\" d=\"M70,354.0 L62,342.0 78,342.0\" fill=\"currentColor\"/>\n</g>\n\n<g class=\"displacy-arrow\">\n    <path class=\"displacy-arc\" id=\"arrow-e172e361f65445f2ac2b8f128a5a88fe-0-1\" stroke-width=\"2px\" d=\"M70,352.0 C70,264.5 210.0,264.5 210.0,352.0\" fill=\"none\" stroke=\"currentColor\"/>\n    <text dy=\"1.25em\" style=\"font-size: 0.8em; letter-spacing: 1px\">\n        <textPath xlink:href=\"#arrow-e172e361f65445f2ac2b8f128a5a88fe-0-1\" class=\"displacy-label\" startOffset=\"50%\" side=\"left\" fill=\"currentColor\" text-anchor=\"middle\">appos</textPath>\n    </text>\n    <path class=\"displacy-arrowhead\" d=\"M210.0,354.0 L218.0,342.0 202.0,342.0\" fill=\"currentColor\"/>\n</g>\n\n<g class=\"displacy-arrow\">\n    <path class=\"displacy-arc\" id=\"arrow-e172e361f65445f2ac2b8f128a5a88fe-0-2\" stroke-width=\"2px\" d=\"M245,352.0 C245,264.5 385.0,264.5 385.0,352.0\" fill=\"none\" stroke=\"currentColor\"/>\n    <text dy=\"1.25em\" style=\"font-size: 0.8em; letter-spacing: 1px\">\n        <textPath xlink:href=\"#arrow-e172e361f65445f2ac2b8f128a5a88fe-0-2\" class=\"displacy-label\" startOffset=\"50%\" side=\"left\" fill=\"currentColor\" text-anchor=\"middle\">conj</textPath>\n    </text>\n    <path class=\"displacy-arrowhead\" d=\"M385.0,354.0 L393.0,342.0 377.0,342.0\" fill=\"currentColor\"/>\n</g>\n\n<g class=\"displacy-arrow\">\n    <path class=\"displacy-arc\" id=\"arrow-e172e361f65445f2ac2b8f128a5a88fe-0-3\" stroke-width=\"2px\" d=\"M245,352.0 C245,177.0 565.0,177.0 565.0,352.0\" fill=\"none\" stroke=\"currentColor\"/>\n    <text dy=\"1.25em\" style=\"font-size: 0.8em; letter-spacing: 1px\">\n        <textPath xlink:href=\"#arrow-e172e361f65445f2ac2b8f128a5a88fe-0-3\" class=\"displacy-label\" startOffset=\"50%\" side=\"left\" fill=\"currentColor\" text-anchor=\"middle\">conj</textPath>\n    </text>\n    <path class=\"displacy-arrowhead\" d=\"M565.0,354.0 L573.0,342.0 557.0,342.0\" fill=\"currentColor\"/>\n</g>\n\n<g class=\"displacy-arrow\">\n    <path class=\"displacy-arc\" id=\"arrow-e172e361f65445f2ac2b8f128a5a88fe-0-4\" stroke-width=\"2px\" d=\"M770,352.0 C770,264.5 910.0,264.5 910.0,352.0\" fill=\"none\" stroke=\"currentColor\"/>\n    <text dy=\"1.25em\" style=\"font-size: 0.8em; letter-spacing: 1px\">\n        <textPath xlink:href=\"#arrow-e172e361f65445f2ac2b8f128a5a88fe-0-4\" class=\"displacy-label\" startOffset=\"50%\" side=\"left\" fill=\"currentColor\" text-anchor=\"middle\">cc</textPath>\n    </text>\n    <path class=\"displacy-arrowhead\" d=\"M770,354.0 L762,342.0 778,342.0\" fill=\"currentColor\"/>\n</g>\n\n<g class=\"displacy-arrow\">\n    <path class=\"displacy-arc\" id=\"arrow-e172e361f65445f2ac2b8f128a5a88fe-0-5\" stroke-width=\"2px\" d=\"M245,352.0 C245,89.5 920.0,89.5 920.0,352.0\" fill=\"none\" stroke=\"currentColor\"/>\n    <text dy=\"1.25em\" style=\"font-size: 0.8em; letter-spacing: 1px\">\n        <textPath xlink:href=\"#arrow-e172e361f65445f2ac2b8f128a5a88fe-0-5\" class=\"displacy-label\" startOffset=\"50%\" side=\"left\" fill=\"currentColor\" text-anchor=\"middle\">conj</textPath>\n    </text>\n    <path class=\"displacy-arrowhead\" d=\"M920.0,354.0 L928.0,342.0 912.0,342.0\" fill=\"currentColor\"/>\n</g>\n\n<g class=\"displacy-arrow\">\n    <path class=\"displacy-arc\" id=\"arrow-e172e361f65445f2ac2b8f128a5a88fe-0-6\" stroke-width=\"2px\" d=\"M1120,352.0 C1120,264.5 1260.0,264.5 1260.0,352.0\" fill=\"none\" stroke=\"currentColor\"/>\n    <text dy=\"1.25em\" style=\"font-size: 0.8em; letter-spacing: 1px\">\n        <textPath xlink:href=\"#arrow-e172e361f65445f2ac2b8f128a5a88fe-0-6\" class=\"displacy-label\" startOffset=\"50%\" side=\"left\" fill=\"currentColor\" text-anchor=\"middle\">aux</textPath>\n    </text>\n    <path class=\"displacy-arrowhead\" d=\"M1120,354.0 L1112,342.0 1128,342.0\" fill=\"currentColor\"/>\n</g>\n\n<g class=\"displacy-arrow\">\n    <path class=\"displacy-arc\" id=\"arrow-e172e361f65445f2ac2b8f128a5a88fe-0-7\" stroke-width=\"2px\" d=\"M1295,352.0 C1295,264.5 1435.0,264.5 1435.0,352.0\" fill=\"none\" stroke=\"currentColor\"/>\n    <text dy=\"1.25em\" style=\"font-size: 0.8em; letter-spacing: 1px\">\n        <textPath xlink:href=\"#arrow-e172e361f65445f2ac2b8f128a5a88fe-0-7\" class=\"displacy-label\" startOffset=\"50%\" side=\"left\" fill=\"currentColor\" text-anchor=\"middle\">obj</textPath>\n    </text>\n    <path class=\"displacy-arrowhead\" d=\"M1435.0,354.0 L1443.0,342.0 1427.0,342.0\" fill=\"currentColor\"/>\n</g>\n\n<g class=\"displacy-arrow\">\n    <path class=\"displacy-arc\" id=\"arrow-e172e361f65445f2ac2b8f128a5a88fe-0-8\" stroke-width=\"2px\" d=\"M1645,352.0 C1645,264.5 1785.0,264.5 1785.0,352.0\" fill=\"none\" stroke=\"currentColor\"/>\n    <text dy=\"1.25em\" style=\"font-size: 0.8em; letter-spacing: 1px\">\n        <textPath xlink:href=\"#arrow-e172e361f65445f2ac2b8f128a5a88fe-0-8\" class=\"displacy-label\" startOffset=\"50%\" side=\"left\" fill=\"currentColor\" text-anchor=\"middle\">case</textPath>\n    </text>\n    <path class=\"displacy-arrowhead\" d=\"M1645,354.0 L1637,342.0 1653,342.0\" fill=\"currentColor\"/>\n</g>\n\n<g class=\"displacy-arrow\">\n    <path class=\"displacy-arc\" id=\"arrow-e172e361f65445f2ac2b8f128a5a88fe-0-9\" stroke-width=\"2px\" d=\"M1470,352.0 C1470,177.0 1790.0,177.0 1790.0,352.0\" fill=\"none\" stroke=\"currentColor\"/>\n    <text dy=\"1.25em\" style=\"font-size: 0.8em; letter-spacing: 1px\">\n        <textPath xlink:href=\"#arrow-e172e361f65445f2ac2b8f128a5a88fe-0-9\" class=\"displacy-label\" startOffset=\"50%\" side=\"left\" fill=\"currentColor\" text-anchor=\"middle\">nmod</textPath>\n    </text>\n    <path class=\"displacy-arrowhead\" d=\"M1790.0,354.0 L1798.0,342.0 1782.0,342.0\" fill=\"currentColor\"/>\n</g>\n</svg></span>"
     },
     "metadata": {}
    }
   ],
   "source": [
    "displacy.render(doc, style=\"dep\")"
   ]
  },
  {
   "source": [
    "# Expanding SpaCy\n",
    "---\n",
    "We will now briefly examine how to expand upon SpaCy for our own goals. We will do two things.\n",
    "\n",
    "- 1) Add a readability measure, and\n",
    "- 2) a NER and dependency based task using DaCy\n",
    "\n",
    "to do this we will first need some data. I will first need some data. For this we will use the speeches by Mette Frederiksen:\n"
   ],
   "cell_type": "markdown",
   "metadata": {}
  },
  {
   "cell_type": "code",
   "execution_count": 8,
   "metadata": {},
   "outputs": [],
   "source": [
    "import pandas as pd"
   ]
  },
  {
   "cell_type": "code",
   "execution_count": 9,
   "metadata": {},
   "outputs": [],
   "source": [
    "df = pd.read_csv(\"../data/speeches.csv\")\n",
    "\n",
    "speeches = df[df[\"person\"] == \"Mette Frederiksen\"][\"text\"].tolist()"
   ]
  },
  {
   "cell_type": "code",
   "execution_count": 10,
   "metadata": {},
   "outputs": [
    {
     "output_type": "stream",
     "name": "stdout",
     "text": [
      "Deres MajestætKære formand, overborgmester og borgmester.Kære alle sammen.Kære København, hovedstad af Danmark. Kæmpe stort tillykke med i dag. Så kom dagen. Efter mere end næsten 10 år med byggerod. Cityringen står klar. Det største anlægsprojekt i København siden Christian den Fjerde. Jeg har lige\n---\nKære kongres. Tak for invitationen. Som jeg har forstået det, er det første gang en politiker får lov til at stå her på talerstolen. Jeg er stolt over, at det blev mig. Jeg har glædet mig til at komme. Vi har mange fælles sager. Og en af de absolut vigtigste gælder vores velfærdssamfund – det dyreba\n"
     ]
    }
   ],
   "source": [
    "print(speeches[3][:300])\n",
    "print(\"---\")\n",
    "print(speeches[5][:300])"
   ]
  },
  {
   "cell_type": "code",
   "execution_count": 11,
   "metadata": {},
   "outputs": [
    {
     "output_type": "stream",
     "name": "stdout",
     "text": [
      "Deres MajestætKære formand, overborgmester og borgmester.\nKære alle sammen.\nKære København, hovedstad af Danmark.\nKæmpe stort tillykke med i dag.\nSå kom dagen.\nEfter mere end næsten 10 år med byggerod.\nCityringen står klar.\nDet største anlægsprojekt i København siden Christian den Fjerde.\nJeg har lige\n"
     ]
    }
   ],
   "source": [
    "# a nice bonus of using SpaCy is you get a lot of \"free stuff\"\n",
    "doc = nlp(speeches[3][:300])\n",
    "\n",
    "for sent in doc.sents:\n",
    "    print(sent)"
   ]
  },
  {
   "source": [
    "## Measuring readability\n",
    "In Danish a simple measure of readability is LIX. it is a by no means the best, but it is a good heuristic.\n",
    "\n",
    "LIX is given as follows:\n",
    "\n",
    "$$\n",
    "LIX = \\frac{O}{P} + \\frac{L \\cdot 100}{O}\n",
    "$$\n",
    "\n",
    "where;\n",
    "\n",
    "$O$: Number of words\n",
    "\n",
    "$P$: Number of full stops (I will use number of sentences instead)\n",
    "\n",
    "$L$: Number of long words (bigger than 6)  \n"
   ],
   "cell_type": "markdown",
   "metadata": {}
  },
  {
   "cell_type": "code",
   "execution_count": 12,
   "metadata": {},
   "outputs": [
    {
     "output_type": "execute_result",
     "data": {
      "text/plain": [
       "31.22222222222222"
      ]
     },
     "metadata": {},
     "execution_count": 12
    }
   ],
   "source": [
    "from spacy.tokens import Doc\n",
    "\n",
    "O = len(doc)\n",
    "P = len(list(doc.sents))\n",
    "L = len([t for t in doc if len(t)>6])\n",
    "\n",
    "LIX = O/P + L*100/O\n",
    "LIX"
   ]
  },
  {
   "source": [
    "We naturally don't want to run this every time we need it. Thus is might be ideal to add a getter.\n",
    "\n",
    "Why a getter and not a function? Well the getter is a function ;), but more than that the getter only runs the function when the variable is needed, which makes it very efficient for simple tasks such as this. If you want to add more explicit variables you might want to add a pipe instead."
   ],
   "cell_type": "markdown",
   "metadata": {}
  },
  {
   "cell_type": "code",
   "execution_count": 13,
   "metadata": {},
   "outputs": [],
   "source": [
    "# adding it to the doc:\n",
    "\n",
    "def LIX_getter(doc):\n",
    "    \"\"\"\n",
    "    extract LIX\n",
    "    \"\"\"\n",
    "    O = len(doc)\n",
    "    P = len(list(doc.sents))\n",
    "    L = len([t for t in doc if len(t)>6])\n",
    "\n",
    "    LIX = O/P + L*100/O\n",
    "    return LIX\n",
    "\n"
   ]
  },
  {
   "cell_type": "code",
   "execution_count": 14,
   "metadata": {},
   "outputs": [
    {
     "output_type": "execute_result",
     "data": {
      "text/plain": [
       "23.03928960991741"
      ]
     },
     "metadata": {},
     "execution_count": 14
    }
   ],
   "source": [
    "# testing it out on a doc\n",
    "doc = nlp(speeches[0])\n",
    "\n",
    "doc._.LIX"
   ]
  },
  {
   "source": [
    "\n",
    "## Using NER and Dependency Parsing\n",
    "To start this of let us first look at what entities Mette Frederiksen describes in her speeches:"
   ],
   "cell_type": "markdown",
   "metadata": {}
  },
  {
   "cell_type": "code",
   "execution_count": 15,
   "metadata": {},
   "outputs": [
    {
     "output_type": "stream",
     "name": "stdout",
     "text": [
      "(Poul Erik, godhavnsdrengene, Danmark, Sarah Smeds, Godhavn, Peter Sabroes, Danmark, Godhavn, Poul Erik, Arne, 70’erne, Danmark, Danmark, Godhavn, Danmarkshistorien, Danmark, Danmark, Danmarks, Danmark, Mette, Danmarks, godhavnsdrengene, Grønlands, Kim Kielsen, grønlandske, danske, Kim, Danmark, Danmark, Poul Erik Rasmussen, foreningen Godhavnsdrengene, Poul Erik, Poul Eriks, Sofie Gråbøl, Sebastian, Poul Erik, Danmark)\n(Valbyparken, ungdommens folkemøde, Danmark, Afghanistan, afghanske, Kabul, Afghanistan, Syrien, Irak, ISIL, flyvevåbnet, søværnet, Irak, Irak, Danmark, Kosovo, Danmark, Danmark, Baltikum, baltiske, NATOs, russisk, Niels Juel, Middelhavet, Det Røde Hav, Indiske, franske, Charles de Gaulle, franskmændene, dansk, Mozambique, Ebola, Uganda, Tsunami, Beredskabsstyrelsen, Danmarks, Danmark, Danmarks, dansk, danskere, Per, 90’erne, Aalborg, PTSD, Danmarks)\n(Danmark, Danmarks største fagforbund, Aalborg, Socialdemokratiet, Aalborg, 3F, Danmarks, 3F, s, Danmark, demokratiet, Danmark, danskerne, dansker, Arne, Arne, 3F, 3F., 3F, Per, Kristian Thulesen Dahl, borgerlige, dansk politik, Socialdemokratiet, Dansk Folkeparti, Socialdemokratiet, 3F, Danmark, Danmark, Anker, Arne, Arne, Danmark, Danmark, 3F, dansk, Danmark, Danmark, danskerne, AMU-centre, FN-topmødet, New York, danske, Danmarks, Danmark, Danske, danske, Danmark, Per)\n(København, Danmark, Cityringen, København, Christian den, Christian, socialdemokrat, metroen, Cityringen, Nordhavn, København, 90’erne, metro, København, København, Danmark, Danmark, København, Frederiksberg)\n(Dan Turèll, danskere, Danmark, dansk, oldboys, Danmark, Danmark, danskerne, Skat, amerikansk, Danmark, Danskerne, brexit, Danmark, demokratiet, Danmark, Danmark, Danmark, Danmark, Enhedslisten, SF, De Radikale, Folketinget, Folketinget, Danmark, Danmark, New Public Management, dansk, University College, PLC, Rigspolitiet, Fyns politi, Folketinget, venstre, sosu-assistent, demokrati, Socialdemokratiet, Folketinget, skattevæsenet, skattevæsenet, Christiansborg, Christiansborg, danskere, danske, Danmark, Danmark, Danmark, Mint, Sjælsmark, dansk, Danmark, Danmark, Danmarks, Anden Verdenskrig, Europa, Sønderjylland, Danmark, Tyskland, europæiske, Storbritannien, Europa, Europa, Europa, Middelhavet, Bruxelles, Danmark, dansk, Europapolitik, Arktis, Færøerne, Grønland, Færøernes, Grønlands, nordatlantiske, Folketinget, Færøerne, Bárður á, Nielsen, Færøerne, Grønland, Naalakkersuisut, Kim Kielsen, grønlandske, Grønland, Danmark, grønlandske, Grønlands, Danmarks, dansk, Danmark, Christiansborg, De Radikale, SF, Enhedslisten, Alternativet, De konservative, Dansk Folkeparti, Liberal Alliance, Dansk, danske, danske, Himmerland, Danmark, Danmark, Danmark, Danmark, Folketinget, Danmark, DANMARK)\n(Danmark, Danmark, Mona, FOA-arbejdspladser, Kirkens Korshærs, Odense, SOSU-skoler, Vejle, Randers, Herlev, Silkeborg, Skive, København, Odense, sosu-uddannelserne, New Public Management, Plejecenter Ærtebjerghaven, Folketinget, Ældresagen, Folketinget, FOA, FOA, dansk)\n(Sønderjylland, Danmark, Sønderjyderne, Første Verdenskrig, Danmark, Danmark, tyske, danske, danskere, Danmark, Danmark, dannebrogsflag, Aalborg, danske, Danmark, Marienborg, Danmark, Danmark, Danmark, Danmark, 90’erne, Danmarkshistorie, danskere, Danmark, København, Danmark, sønderjyderne, Danmark, danske, Danmark, Danmarks, dansk, dansk, Danmark)\n(anden verdenskrig, holocaust, nazisternes, Auschwitz-Birkenau, Holocaust, jøder, Auschwitz-Birkenau, Auschwitz, europæiske, Yad Yashem, Anti-semitismen, holocaust, jødiske, Jerusalem, danske, holocaust, Jytte Israel, Robert Fischermann, Jytte, europæiske, jøder, danskere, danske, Sverige, Islands Brygge, tyske, franske, Roberts, tyskerne, Robert, Theresienstadt, Robert, Robert, nazisternes, Europa, Robert, nazisterne, nazisterne, jøde, Robert, Robert, Jytte, jøder, holocaust, antisemitismen, jøder, Danmark, Danmark, Danmark, danskere, danske, jøder, holocaust, jøde, dansker, danske, danske, Danmark, Europa)\n(Danmark, demokrati, Sarah Hartvigsen Juncker)\n(danskere, danskere, corona, Corona-virus, Italien, Europa, Italien, Danmark, Danmark, danskere, Danmark, Danmark, Danmark, DSB, intercity, Folketinget, danskere, Udenrigsministeriet, Norditalien, Iran, Kina, Sydkorea, Østrig, Danmark, Danmark, Danmark, corona, Danskerne, danskernes, Folketingets, Folketingets, Statsministeriet, danskerne, danskerne, Danmark)\n(corona, Danmark, corona, Danmark, corona, Danmark, Danmark, danske, Folketingets, Danmark, corona, danske, Danmark, sundhedsministeren, Danmark, corona, arbejdsmarkedets parter, danske, Danmark, Danmark, Danmark, danskernes, Corona-udbruddet, Danmark, Danmark, corona-virus, Folketingets partier, danske, Folketingets, corona, corona, Danske, Danmark, corona, Danmark, corona, Europa, Danmark, Danmark, København, danske, Danmark, anden verdenskrig, Danmark, danske, Danmark, Danmark)\n(Statsministeriet, corona, Danmark, danskere, Corona, Danmark, Corona-virus, italiener, amerikaner, dansker, Danmark, Danmark, Danmark, Danmark, Danmark, corona, corona, Coronaen, Danmark, Danmark, HF, danskerne, Folketinget, Venstre, Danmark, USA, amerikanere, danske, socialområdet, Danmark, Folketingets, Folketingets, Danmark, danskere, Danmark, Danmark, corona-tid, Danmark, Danmark, coronaen)\n(Danmark, corona, Danmark, danskere, Danmarks, demokrati, Kastellet, Danmarks, Danmarks, Al Asad Air Base, Irak, danske, danske, irakiske, ISIL, danske, Irak, Europas, Frontex, Grækenland, NATO, s, Afghanistan, Estland, Afrikas, danske, Covid-19, Mali, dansk, FN’s mission, covid-19, FN, corona, franske, corona, Sahel-regionen, Europa, danskere, Danmark, Danmark)\n(corona-smittetal, Storkøbenhavn, Storkøbenhavn, Hjørring, Ringsted, Aarhus, Odense, København, Hovedstadsregionen, Storkøbenhavn, Danmark, Seruminstituttet, corona, corona, Marienborg, Danmark, CO2-, Danmark, Power-to-X, Star Wars, Danmark, Danmark, dansk, Holland, Aalborg Portland, Aalborg Portland, Danmark, Danmark, verdensplan, Aalborg Portland, Aalborg Portland, Aalborg Portlands, Nordsøen, Folketingets, Danmarks, Folketinget, danske, pick the winners, Danmark, EU-kommissionen, EU, s, Danmark, Folketinget)\n(Danmarks, Carlsberg, Fredericia, Kalundborg, Fyn, Storebælt, DI, Lars, DI, s, Danmark, DI-plan, Dansk, Nationalbanken, Dansk, danske, danske, Danmark, DI, corona, Danske, FN, Danmark, Danmark, EU, europæisk, Folketinget, Indiens, Modi, Indiens, Indien, Danmark, Indiens, Modi, Indien, Danmark, Danmark, Indien, Indien, Kina, Indien, Udenrigsministeriets, danske, danske, danske, dansk, corona, danske, danske, Danmark, corona, dansk, Danmark)\n(Danmarks, Danmark, Danmark, coronaen, Europa, Danmark, corona, Europa, Danmark, Danmarks, Coronaen, Danmark, Folketinget, dansk, Folketinget, Danmarkshistoriens, dansk, Danmark, Folketinget, Danmark, Danmark, dansk, danske, Tårnby, socialdemokratisk, danske, Danmark, Danmark, 80’erne, danske, Folketinget, coronaen, corona, Danmark, coronaen, europæiske, Danmark, Indien, Indien, Kina, Indien, Indiens, Modi, Indien, Danmark, Indien, Danmark, danske, Danmarks, corona, danske, Danmarks, Danmark, Danmark, Motalavej, justitsministeren, boligministeren, Korsør, Danmark, Danmark, Danmark, Brønshøj, Gellerup, Gentofte, danske, danske, Brønshøj, København, Danmark, Motalavej, Danmark, europæisk, Middelhavet, sydeuropæiske, Danmark, Europa, Danmark, Europa, Arktis, Rusland, amerikansk, Arktis, USA, USA, Europa, Arktis, Arktis, Nordatlanten, Folketinget, Folketingets, Radikale Venstre, Enhedslisten, SF, Danmark, Danmark, Else, Folketinget, Corona, Social-, sosu, Rigspolitiet, dansk, Frederikssund, Fredericia, Viborg, Esbjerg, Christiansborg, 80’erne, Poul Schlüter, frikommuneforsøg, VK-regeringen, Det Radikale Venstre, danske, Helsingør, Helsingør, Danmarks, Helsingør, Rebild, Viborg, Middelfart, Holbæk, Langeland, Esbjerg, Folkeskolen, Esbjerg, Holbæk, Christiansborg, Folketinget, Folketinget, travbanen, Danmark, Danmarks, Danmark, SF, Radikale Venstre, Enhedslisten, EU's, finansministeren, Danmark, Coronaen, Danmarks, Danmark, Folketingets, Danmark, Mette Frederiksen, the Danish Parliament, Denmark, Denmark, Denmark, Europe, Denmark, Europe, reopen society, Denmark, Denmark, Corona, almost 7 percent, Danish economy, Denmark, Sectoral partnerships, Danish cooperation, who, Denmark, Denmark, Danish economy, Danish, Tårnby, Denmark, Denmark, Denmark, Danish, Even though, Denmark, Denmark, European Recovery Fund, India, Denmark, India, Denmark, Danish jobs, Denmark, Danish industrial businesses, Denmark, Denmark, Denmark, Korsør, several residents, Denmark, Denmark, social and healthcare, pedagogues, obdurate culture, Denmark, broad daylight, Denmark, Denmark, who, Brønshøj last week, Gellerup, Gentofte, Danish, Danish, Danish, Copenhagen against, Denmark, a train station, Denmark, Motalavej, Denmark, European, Europe, Denmark, EU, Denmark, Europe, Europe, Russian, Europe, North Atlantic area, Danish, Radikale Venstre, the Danish Social-Liberal Party, Enhedslisten, the Red-Green Alliance, SF, the Socialist People's, Denmark, porta cabin, Denmark, green areas, Danish National Police, local police, Danish National Police, Frederikssund, Fredericia, Viborg, Esbjerg, Christiansborg, Poul Schlüter, Danish, Helsingør, Helsingør, Denmark, Helsingør, Rebild, Viborg, Middelfart, Holbæk, Langeland, Esbjerg, the public school, municipal councils, nursing home unit, Esbjerg, Holbæk, Denmark, Christiansborg, green energy, Denmark, green research strategy, Denmark, new great wind turbine, green fuel, Denmark, Det Radikale Venstre, Enhedslisten, green transition, green economic, European, Green ambitions, social, Denmark, Denmark, Denmark, Denmark)\n(Corona, dansk, Danmark, Danmark, Danmark, Danmark, danskerne, Europa, Danmark, Lizette, Danmark, Danish Crown, Danish Crown, NNF, Danmark, Socialdemokratiet, Arnes, FH, socialdemokratisk, danske)\n(Anden Verdenskrig, Danmark, danskere, danskere, Danmark, Folketinget, Hal Koch, Demokrati, demokrati, Dansk, Danmark, Danmark, Folketinget, dansk, dansk, Danmark, danske, demokratiet, Danmark, dansker, Danmark, Haslev, Roskilde, Vordingborg, Maribo, Nakskov, Nykøbing, Kalundborg, Faaborg, Haderslev, Dronninglund, København, Jylland, Sjælland, Fyn, øerne, København, Jylland, Sjælland, Fyn, danskere, Lolland-Falster, Vestsjælland, Nordjylland, København, Danmark, spanske, Martin Andersen Nexø, Danmark, Danmark, Danmark, Danmark, Mette Frederiksen, new year, World War II, Denmark, chronic illness, Denmark, Public employees, Danish, Denmark, Denmark, greenhouse gas emissions, offshore wind from energy islands, new national parks, untouched forests, Danish agriculture, Danish businesses, Denmark, Danish, Denmark, Haslev, Roskilde, Vordingborg, Maribo, Nakskov, Nykøbing, Kalundborg, Faaborg, Haderslev, Dronninglund, Police stations, Copenhagen, Zealand, Copenhagen, new local, Jutland, Zealand, Lolland-Falster, West Zealand, North Jutland, Copenhagen, Denmark, Spanish flu, Martin Andersen Nexø, Denmark, Denmark exists, Denmark, Denmark)\n"
     ]
    }
   ],
   "source": [
    "docs = nlp.pipe(speeches)  # only use this for large amount of documents (not like this)\n",
    "\n",
    "for doc in docs:\n",
    "    print(doc.ents)"
   ]
  },
  {
   "source": [
    "Oh well, look at that `Danmark` seems quite popular. Well given that let us examine how Mette describes Denmark. Let's first make a simple example:"
   ],
   "cell_type": "markdown",
   "metadata": {}
  },
  {
   "cell_type": "code",
   "execution_count": 16,
   "metadata": {},
   "outputs": [
    {
     "output_type": "display_data",
     "data": {
      "text/plain": "<IPython.core.display.HTML object>",
      "text/html": "<span class=\"tex2jax_ignore\"><svg xmlns=\"http://www.w3.org/2000/svg\" xmlns:xlink=\"http://www.w3.org/1999/xlink\" xml:lang=\"da\" id=\"8459da4593ef4aa2a9e4ead50870aace-0\" class=\"displacy\" width=\"750\" height=\"399.5\" direction=\"ltr\" style=\"max-width: none; height: 399.5px; color: #000000; background: #ffffff; font-family: Arial; direction: ltr\">\n<text class=\"displacy-token\" fill=\"currentColor\" text-anchor=\"middle\" y=\"309.5\">\n    <tspan class=\"displacy-word\" fill=\"currentColor\" x=\"50\">velkommen</tspan>\n    <tspan class=\"displacy-tag\" dy=\"2em\" fill=\"currentColor\" x=\"50\"></tspan>\n</text>\n\n<text class=\"displacy-token\" fill=\"currentColor\" text-anchor=\"middle\" y=\"309.5\">\n    <tspan class=\"displacy-word\" fill=\"currentColor\" x=\"225\">til</tspan>\n    <tspan class=\"displacy-tag\" dy=\"2em\" fill=\"currentColor\" x=\"225\"></tspan>\n</text>\n\n<text class=\"displacy-token\" fill=\"currentColor\" text-anchor=\"middle\" y=\"309.5\">\n    <tspan class=\"displacy-word\" fill=\"currentColor\" x=\"400\">skønne</tspan>\n    <tspan class=\"displacy-tag\" dy=\"2em\" fill=\"currentColor\" x=\"400\"></tspan>\n</text>\n\n<text class=\"displacy-token\" fill=\"currentColor\" text-anchor=\"middle\" y=\"309.5\">\n    <tspan class=\"displacy-word\" fill=\"currentColor\" x=\"575\">Danmark</tspan>\n    <tspan class=\"displacy-tag\" dy=\"2em\" fill=\"currentColor\" x=\"575\"></tspan>\n</text>\n\n<g class=\"displacy-arrow\">\n    <path class=\"displacy-arc\" id=\"arrow-8459da4593ef4aa2a9e4ead50870aace-0-0\" stroke-width=\"2px\" d=\"M245,264.5 C245,89.5 570.0,89.5 570.0,264.5\" fill=\"none\" stroke=\"currentColor\"/>\n    <text dy=\"1.25em\" style=\"font-size: 0.8em; letter-spacing: 1px\">\n        <textPath xlink:href=\"#arrow-8459da4593ef4aa2a9e4ead50870aace-0-0\" class=\"displacy-label\" startOffset=\"50%\" side=\"left\" fill=\"currentColor\" text-anchor=\"middle\">case</textPath>\n    </text>\n    <path class=\"displacy-arrowhead\" d=\"M245,266.5 L237,254.5 253,254.5\" fill=\"currentColor\"/>\n</g>\n\n<g class=\"displacy-arrow\">\n    <path class=\"displacy-arc\" id=\"arrow-8459da4593ef4aa2a9e4ead50870aace-0-1\" stroke-width=\"2px\" d=\"M420,264.5 C420,177.0 565.0,177.0 565.0,264.5\" fill=\"none\" stroke=\"currentColor\"/>\n    <text dy=\"1.25em\" style=\"font-size: 0.8em; letter-spacing: 1px\">\n        <textPath xlink:href=\"#arrow-8459da4593ef4aa2a9e4ead50870aace-0-1\" class=\"displacy-label\" startOffset=\"50%\" side=\"left\" fill=\"currentColor\" text-anchor=\"middle\">amod</textPath>\n    </text>\n    <path class=\"displacy-arrowhead\" d=\"M420,266.5 L412,254.5 428,254.5\" fill=\"currentColor\"/>\n</g>\n\n<g class=\"displacy-arrow\">\n    <path class=\"displacy-arc\" id=\"arrow-8459da4593ef4aa2a9e4ead50870aace-0-2\" stroke-width=\"2px\" d=\"M70,264.5 C70,2.0 575.0,2.0 575.0,264.5\" fill=\"none\" stroke=\"currentColor\"/>\n    <text dy=\"1.25em\" style=\"font-size: 0.8em; letter-spacing: 1px\">\n        <textPath xlink:href=\"#arrow-8459da4593ef4aa2a9e4ead50870aace-0-2\" class=\"displacy-label\" startOffset=\"50%\" side=\"left\" fill=\"currentColor\" text-anchor=\"middle\">obl</textPath>\n    </text>\n    <path class=\"displacy-arrowhead\" d=\"M575.0,266.5 L583.0,254.5 567.0,254.5\" fill=\"currentColor\"/>\n</g>\n</svg></span>"
     },
     "metadata": {}
    }
   ],
   "source": [
    "doc = nlp(\"velkommen til skønne Danmark\")\n",
    "\n",
    "displacy.render(doc)"
   ]
  },
  {
   "source": [
    "Notice how DK is describes using the adjective *'skønne'* and that this captured by the parsing tag *amod*. This can be extracted quite easily as follows:"
   ],
   "cell_type": "markdown",
   "metadata": {}
  },
  {
   "cell_type": "code",
   "execution_count": 17,
   "metadata": {},
   "outputs": [
    {
     "output_type": "execute_result",
     "data": {
      "text/plain": [
       "[skønne]"
      ]
     },
     "metadata": {},
     "execution_count": 17
    }
   ],
   "source": [
    "[t for t in doc[3].subtree if t.dep_ == \"amod\"] # doc[3] corresponds to Danmark"
   ]
  },
  {
   "source": [
    "Similarly to before we can now add a method for doing this for all docs. Notice this function is only ever called when you extract the variable. This it is not really running before you need it."
   ],
   "cell_type": "markdown",
   "metadata": {}
  },
  {
   "cell_type": "code",
   "execution_count": 18,
   "metadata": {},
   "outputs": [],
   "source": [
    "\n",
    "def ent_desc_getter(doc, entity=\"danmark\"):\n",
    "    \"\"\"\n",
    "    return words which describes the entity\n",
    "    \n",
    "    assumes entity is length 1\n",
    "    \"\"\"\n",
    "    for ent in doc.ents:\n",
    "        if ent.text.lower() == entity:\n",
    "            out = [t for t in doc[ent.start].subtree if t.dep_ == \"amod\"]\n",
    "            if out:\n",
    "                for i in out:\n",
    "                    yield i\n",
    "\n",
    "Doc.set_extension(\"dk_desc\", getter=ent_desc_getter)\n"
   ]
  },
  {
   "cell_type": "code",
   "execution_count": 19,
   "metadata": {},
   "outputs": [
    {
     "output_type": "execute_result",
     "data": {
      "text/plain": [
       "[hele]"
      ]
     },
     "metadata": {},
     "execution_count": 19
    }
   ],
   "source": [
    "# Testing it out on one speech\n",
    "doc = nlp(speeches[0])\n",
    "list(doc._.dk_desc)"
   ]
  },
  {
   "cell_type": "code",
   "execution_count": 73,
   "metadata": {},
   "outputs": [
    {
     "output_type": "stream",
     "name": "stdout",
     "text": [
      "[hele]\n[hele, hele]\n[]\n[grønnere]\n[grønnere, hele, grønt]\n[solidarisk, store]\n[]\n[]\n[]\n[hele]\n[hele]\n[Hele, mange]\n[hele, alle, hele]\n[grønt]\n[]\n[hele]\n[]\n[]\n"
     ]
    }
   ],
   "source": [
    "# testing it out on all the speeches\n",
    "docs = nlp.pipe(speeches)\n",
    "\n",
    "for doc in docs:\n",
    "    print(list(doc._.dk_desc))"
   ]
  },
  {
   "source": [
    "Naturally, one could extend this. One might wish to filter by the tag as well e.g. by only showing adjectives. Similarly, this approach does not catch even simple cases such as *\"Danmark er det skønneste land\"*. In which case you can either parse the tree further and/or use coreference resolution."
   ],
   "cell_type": "markdown",
   "metadata": {}
  },
  {
   "source": [
    "This conludes the tutorial. If you wish to work more on Danish NLP and DaCy feel free to contribute to its development.\n",
    "\n",
    "# How to Contribute\n",
    "---\n",
    "\n",
    "DaCy is by no means perfect and there is still some notable limitaitons:\n",
    "- Lemmatization: It currently uses a lookup table for lemmatization based on the training corpus, a more viable solution is to use the `lemmy` package for SpaCy v2 but it need to be updated.\n",
    "- POS-tags: Currently POS-tags are assigned to the `tag_` not the `pos_` label. This needs to be fixed\n",
    "- DaCy is trained on a fairly small training corpus, any data augmentation and/or increase in training will likely results in improved performance. \n",
    "- DaCy notable does not include a sentiment analysis component. There is multiple reasons for this, the primary being that DaNE is not tagged for sentiment and sentiment analysis still lacks a clear definition.\n",
    "\n",
    "If you make progress in any of these (or something else which you find relevant), please feel free to reach out.\n"
   ],
   "cell_type": "markdown",
   "metadata": {}
  },
  {
   "cell_type": "code",
   "execution_count": null,
   "metadata": {},
   "outputs": [],
   "source": [
    "\n",
    "\n",
    "def doc_to_dict_getter(doc, include=[\"token\", \"lemma\", ...]):\n",
    "    # construct dict using a loop over include\n",
    "    out = {\"token\": [], \"lemma\": [], \"pos\": [], \"ner\": [], \"dep\": []}\n",
    "    for t in doc:\n",
    "        if \"token\" in out:\n",
    "            out[\"token\"] = t.text\n",
    "        # ...\n",
    "    return out"
   ]
  }
 ]
}